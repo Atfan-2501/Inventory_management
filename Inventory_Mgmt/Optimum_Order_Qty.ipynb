{
  "nbformat": 4,
  "nbformat_minor": 0,
  "metadata": {
    "colab": {
      "provenance": []
    },
    "kernelspec": {
      "name": "python3",
      "display_name": "Python 3"
    },
    "language_info": {
      "name": "python"
    }
  },
  "cells": [
    {
      "cell_type": "markdown",
      "source": [
        "Case: The supply chain manager of a Coffee company has to decide the optimum order quantity of raw coffee which it imports from its partner supplier in Columbia. The annual demand of the coffee is 4000 tons per year and the price of 1 ton from the supplier is $2500, assuming the holding rate of 10% while the cost of transportation and ordering is 6000 USD. Also if the supplier offers a discount of 10% on order quantity of 500, will you accept it? \n",
        "Also find the reorder point if;\n",
        "1. The lead time is 1 month\n",
        "2. The lead time is 2 months "
      ],
      "metadata": {
        "id": "snGWZCaEDVni"
      }
    },
    {
      "cell_type": "code",
      "source": [
        "pip install inventorize3"
      ],
      "metadata": {
        "id": "y7u-Ig2pGGFK"
      },
      "execution_count": null,
      "outputs": []
    },
    {
      "cell_type": "code",
      "execution_count": null,
      "metadata": {
        "id": "QIJssG-a7qs6"
      },
      "outputs": [],
      "source": [
        "import inventorize3 as inv\n",
        "import pandas as pd\n",
        "import numpy as np"
      ]
    },
    {
      "cell_type": "markdown",
      "source": [
        "Defining the given case"
      ],
      "metadata": {
        "id": "rgJ2if0SSwGh"
      }
    },
    {
      "cell_type": "code",
      "source": [
        "D = 4000\n",
        "C = 2500\n",
        "Co = 6000\n",
        "Ch = 0.1 "
      ],
      "metadata": {
        "id": "NlJkLDDRSt6C"
      },
      "execution_count": null,
      "outputs": []
    },
    {
      "cell_type": "code",
      "source": [
        "EOQ_df = pd.DataFrame(inv.eoq(D, Co, C, Ch), index = [0])\n",
        "EOQ_df"
      ],
      "metadata": {
        "colab": {
          "base_uri": "https://localhost:8080/",
          "height": 81
        },
        "id": "XbOQJhoSTiVo",
        "outputId": "8becf127-5a39-44bf-c406-1e607bf7bb68"
      },
      "execution_count": null,
      "outputs": [
        {
          "output_type": "execute_result",
          "data": {
            "text/plain": [
              "          EOQ   T_years   T_weeks\n",
              "0  438.178046  0.109545  5.696315"
            ],
            "text/html": [
              "\n",
              "  <div id=\"df-3f8ab770-2359-4677-bde0-924c57ba2253\">\n",
              "    <div class=\"colab-df-container\">\n",
              "      <div>\n",
              "<style scoped>\n",
              "    .dataframe tbody tr th:only-of-type {\n",
              "        vertical-align: middle;\n",
              "    }\n",
              "\n",
              "    .dataframe tbody tr th {\n",
              "        vertical-align: top;\n",
              "    }\n",
              "\n",
              "    .dataframe thead th {\n",
              "        text-align: right;\n",
              "    }\n",
              "</style>\n",
              "<table border=\"1\" class=\"dataframe\">\n",
              "  <thead>\n",
              "    <tr style=\"text-align: right;\">\n",
              "      <th></th>\n",
              "      <th>EOQ</th>\n",
              "      <th>T_years</th>\n",
              "      <th>T_weeks</th>\n",
              "    </tr>\n",
              "  </thead>\n",
              "  <tbody>\n",
              "    <tr>\n",
              "      <th>0</th>\n",
              "      <td>438.178046</td>\n",
              "      <td>0.109545</td>\n",
              "      <td>5.696315</td>\n",
              "    </tr>\n",
              "  </tbody>\n",
              "</table>\n",
              "</div>\n",
              "      <button class=\"colab-df-convert\" onclick=\"convertToInteractive('df-3f8ab770-2359-4677-bde0-924c57ba2253')\"\n",
              "              title=\"Convert this dataframe to an interactive table.\"\n",
              "              style=\"display:none;\">\n",
              "        \n",
              "  <svg xmlns=\"http://www.w3.org/2000/svg\" height=\"24px\"viewBox=\"0 0 24 24\"\n",
              "       width=\"24px\">\n",
              "    <path d=\"M0 0h24v24H0V0z\" fill=\"none\"/>\n",
              "    <path d=\"M18.56 5.44l.94 2.06.94-2.06 2.06-.94-2.06-.94-.94-2.06-.94 2.06-2.06.94zm-11 1L8.5 8.5l.94-2.06 2.06-.94-2.06-.94L8.5 2.5l-.94 2.06-2.06.94zm10 10l.94 2.06.94-2.06 2.06-.94-2.06-.94-.94-2.06-.94 2.06-2.06.94z\"/><path d=\"M17.41 7.96l-1.37-1.37c-.4-.4-.92-.59-1.43-.59-.52 0-1.04.2-1.43.59L10.3 9.45l-7.72 7.72c-.78.78-.78 2.05 0 2.83L4 21.41c.39.39.9.59 1.41.59.51 0 1.02-.2 1.41-.59l7.78-7.78 2.81-2.81c.8-.78.8-2.07 0-2.86zM5.41 20L4 18.59l7.72-7.72 1.47 1.35L5.41 20z\"/>\n",
              "  </svg>\n",
              "      </button>\n",
              "      \n",
              "  <style>\n",
              "    .colab-df-container {\n",
              "      display:flex;\n",
              "      flex-wrap:wrap;\n",
              "      gap: 12px;\n",
              "    }\n",
              "\n",
              "    .colab-df-convert {\n",
              "      background-color: #E8F0FE;\n",
              "      border: none;\n",
              "      border-radius: 50%;\n",
              "      cursor: pointer;\n",
              "      display: none;\n",
              "      fill: #1967D2;\n",
              "      height: 32px;\n",
              "      padding: 0 0 0 0;\n",
              "      width: 32px;\n",
              "    }\n",
              "\n",
              "    .colab-df-convert:hover {\n",
              "      background-color: #E2EBFA;\n",
              "      box-shadow: 0px 1px 2px rgba(60, 64, 67, 0.3), 0px 1px 3px 1px rgba(60, 64, 67, 0.15);\n",
              "      fill: #174EA6;\n",
              "    }\n",
              "\n",
              "    [theme=dark] .colab-df-convert {\n",
              "      background-color: #3B4455;\n",
              "      fill: #D2E3FC;\n",
              "    }\n",
              "\n",
              "    [theme=dark] .colab-df-convert:hover {\n",
              "      background-color: #434B5C;\n",
              "      box-shadow: 0px 1px 3px 1px rgba(0, 0, 0, 0.15);\n",
              "      filter: drop-shadow(0px 1px 2px rgba(0, 0, 0, 0.3));\n",
              "      fill: #FFFFFF;\n",
              "    }\n",
              "  </style>\n",
              "\n",
              "      <script>\n",
              "        const buttonEl =\n",
              "          document.querySelector('#df-3f8ab770-2359-4677-bde0-924c57ba2253 button.colab-df-convert');\n",
              "        buttonEl.style.display =\n",
              "          google.colab.kernel.accessAllowed ? 'block' : 'none';\n",
              "\n",
              "        async function convertToInteractive(key) {\n",
              "          const element = document.querySelector('#df-3f8ab770-2359-4677-bde0-924c57ba2253');\n",
              "          const dataTable =\n",
              "            await google.colab.kernel.invokeFunction('convertToInteractive',\n",
              "                                                     [key], {});\n",
              "          if (!dataTable) return;\n",
              "\n",
              "          const docLinkHtml = 'Like what you see? Visit the ' +\n",
              "            '<a target=\"_blank\" href=https://colab.research.google.com/notebooks/data_table.ipynb>data table notebook</a>'\n",
              "            + ' to learn more about interactive tables.';\n",
              "          element.innerHTML = '';\n",
              "          dataTable['output_type'] = 'display_data';\n",
              "          await google.colab.output.renderOutput(dataTable, element);\n",
              "          const docLink = document.createElement('div');\n",
              "          docLink.innerHTML = docLinkHtml;\n",
              "          element.appendChild(docLink);\n",
              "        }\n",
              "      </script>\n",
              "    </div>\n",
              "  </div>\n",
              "  "
            ]
          },
          "metadata": {},
          "execution_count": 5
        }
      ]
    },
    {
      "cell_type": "code",
      "source": [
        "EOQ = EOQ_df.loc[0, \"EOQ\"]\n",
        "EOQ"
      ],
      "metadata": {
        "id": "aYE11sMMUGtZ",
        "colab": {
          "base_uri": "https://localhost:8080/"
        },
        "outputId": "8b71c6dd-fd9d-49aa-a0f0-59785ba90525"
      },
      "execution_count": null,
      "outputs": [
        {
          "output_type": "execute_result",
          "data": {
            "text/plain": [
              "438.1780460041329"
            ]
          },
          "metadata": {},
          "execution_count": 8
        }
      ]
    },
    {
      "cell_type": "markdown",
      "source": [
        "We have found the Economic Order Quantity using the inventorize library. Now let's find the cost associated when the order quantity is EOQ"
      ],
      "metadata": {
        "id": "Dt8PVSxxtQ13"
      }
    },
    {
      "cell_type": "code",
      "source": [
        "cost_EOQ = D*C + (D/EOQ)*Co + EOQ*Ch/2\n",
        "cost_EOQ"
      ],
      "metadata": {
        "colab": {
          "base_uri": "https://localhost:8080/"
        },
        "id": "F5PPaPqftIAn",
        "outputId": "cbbd62a0-8c38-43cd-f0cb-2f6430feeb5d"
      },
      "execution_count": 12,
      "outputs": [
        {
          "output_type": "execute_result",
          "data": {
            "text/plain": [
              "10054794.164652817"
            ]
          },
          "metadata": {},
          "execution_count": 12
        }
      ]
    },
    {
      "cell_type": "markdown",
      "source": [
        "Analyzing the case when the supplier offers a discount of 10% on Order Quantity of 500."
      ],
      "metadata": {
        "id": "mG3-9Td1t5dh"
      }
    },
    {
      "cell_type": "code",
      "source": [
        "discount_qty = 500"
      ],
      "metadata": {
        "id": "s2UKk2zHt21-"
      },
      "execution_count": null,
      "outputs": []
    },
    {
      "cell_type": "code",
      "source": [
        "cost_discount_qty = D*C + D/discount_qty*Co + discount_qty*Ch/2\n",
        "cost_discount_qty"
      ],
      "metadata": {
        "colab": {
          "base_uri": "https://localhost:8080/"
        },
        "id": "6l7Q2fzouUdh",
        "outputId": "6421689a-2e95-4ac2-dd33-ad6443945b8f"
      },
      "execution_count": null,
      "outputs": [
        {
          "output_type": "execute_result",
          "data": {
            "text/plain": [
              "10048025.0"
            ]
          },
          "metadata": {},
          "execution_count": 11
        }
      ]
    },
    {
      "cell_type": "markdown",
      "source": [
        "Thus we can conclude that the offer provided by the supplier is profitable and we should set the order quantity as 500 to avail the discount."
      ],
      "metadata": {
        "id": "-bAnpqqOueFd"
      }
    },
    {
      "cell_type": "markdown",
      "source": [
        "Calculating the Reorder point if the lead time is 1 month.                               \n",
        "\n",
        "Reorder Qty = Lead time * Demand during the lead time + Safety Stock                       \n",
        "Note: If the reorder point is greate5sr than Order quantity (i.e one cycle) then we subtract the order qty until the reorder point is less than order qty."
      ],
      "metadata": {
        "id": "Oz38Q0J_uyY6"
      }
    },
    {
      "cell_type": "markdown",
      "source": [
        "Function for reorder point"
      ],
      "metadata": {
        "id": "5bECZ_ScB3_x"
      }
    },
    {
      "cell_type": "code",
      "source": [
        "def reorder_point(Order_qty, Lead_time, Demand_rate, Safety_stock):\n",
        "  Reorder_point = Demand_rate*Lead_time + Safety_stock\n",
        "  while Reorder_point > Order_qty:\n",
        "    Reorder_point -= Order_qty\n",
        "  \n",
        "  return Reorder_point\n"
      ],
      "metadata": {
        "id": "HklF_6wgB7cx"
      },
      "execution_count": 16,
      "outputs": []
    },
    {
      "cell_type": "markdown",
      "source": [
        "Case 1: Lead time is 1 month"
      ],
      "metadata": {
        "id": "d_TuZwYWBgSn"
      }
    },
    {
      "cell_type": "code",
      "source": [
        "reorder_point(500, 1, D/12, 0)"
      ],
      "metadata": {
        "id": "UsskO9Tauw5c",
        "colab": {
          "base_uri": "https://localhost:8080/"
        },
        "outputId": "3d175211-7ecd-4f38-9d16-bf65d2c59236"
      },
      "execution_count": 17,
      "outputs": [
        {
          "output_type": "execute_result",
          "data": {
            "text/plain": [
              "333.3333333333333"
            ]
          },
          "metadata": {},
          "execution_count": 17
        }
      ]
    },
    {
      "cell_type": "markdown",
      "source": [
        "Case 2: Lead time is 2 month"
      ],
      "metadata": {
        "id": "WbzyUdFPBo3E"
      }
    },
    {
      "cell_type": "code",
      "source": [
        "reorder_point(500, 2, D/12, 0)"
      ],
      "metadata": {
        "colab": {
          "base_uri": "https://localhost:8080/"
        },
        "id": "082ip-3DBnPi",
        "outputId": "28464764-c1ab-4247-8c80-6e9ae83ab336"
      },
      "execution_count": 18,
      "outputs": [
        {
          "output_type": "execute_result",
          "data": {
            "text/plain": [
              "166.66666666666663"
            ]
          },
          "metadata": {},
          "execution_count": 18
        }
      ]
    }
  ]
}